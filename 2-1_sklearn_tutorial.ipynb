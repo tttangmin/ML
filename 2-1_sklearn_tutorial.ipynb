{
 "cells": [
  {
   "cell_type": "markdown",
   "metadata": {},
   "source": [
    "# scikit-learn 소개\n",
    "- 파이썬 기반의 머신러닝 라이브러리\n",
    "- numpy와 scipy 기반 위에서 구축된 라이브러리\n",
    "\n",
    "- feature : target을 제외한 나머지 속성\n",
    "- lable, class, target : 정답데이터를 의미"
   ]
  },
  {
   "cell_type": "code",
   "execution_count": 23,
   "metadata": {},
   "outputs": [
    {
     "name": "stdout",
     "output_type": "stream",
     "text": [
      "1.0.1\n"
     ]
    }
   ],
   "source": [
    "# sklearn 버전확인\n",
    "import sklearn\n",
    "print(sklearn.__version__)"
   ]
  },
  {
   "cell_type": "code",
   "execution_count": 24,
   "metadata": {},
   "outputs": [],
   "source": [
    "# loading scikit-learn module\n",
    "from sklearn.datasets import load_iris #irist dataset\n",
    "from sklearn.tree import DecisionTreeClassifier #결정트리\n",
    "from sklearn.model_selection import train_test_split #split train-test dataset\n",
    "import pandas as pd"
   ]
  },
  {
   "cell_type": "markdown",
   "metadata": {},
   "source": [
    "# 모델 프로세스\n",
    "- 데이터세트 분리\n",
    "- 모델학습\n",
    "- 예측수행\n",
    "- 평가"
   ]
  },
  {
   "cell_type": "markdown",
   "metadata": {},
   "source": [
    "### #1 데이터세트 분리"
   ]
  },
  {
   "cell_type": "code",
   "execution_count": 41,
   "metadata": {},
   "outputs": [
    {
     "name": "stdout",
     "output_type": "stream",
     "text": [
      "iris target값: [0 0 0 0 0 0 0 0 0 0 0 0 0 0 0 0 0 0 0 0 0 0 0 0 0 0 0 0 0 0 0 0 0 0 0 0 0\n",
      " 0 0 0 0 0 0 0 0 0 0 0 0 0 1 1 1 1 1 1 1 1 1 1 1 1 1 1 1 1 1 1 1 1 1 1 1 1\n",
      " 1 1 1 1 1 1 1 1 1 1 1 1 1 1 1 1 1 1 1 1 1 1 1 1 1 1 2 2 2 2 2 2 2 2 2 2 2\n",
      " 2 2 2 2 2 2 2 2 2 2 2 2 2 2 2 2 2 2 2 2 2 2 2 2 2 2 2 2 2 2 2 2 2 2 2 2 2\n",
      " 2 2]\n",
      "iris target명: ['setosa' 'versicolor' 'virginica']\n"
     ]
    }
   ],
   "source": [
    "# iris 데이터셋 로딩\n",
    "iris = load_iris()\n",
    "\n",
    "iris_data = iris.data #iris 데이터셋 feature만 추출\n",
    "iris_label = iris.target #label만 추출\n",
    "print('iris target값:', iris_label)\n",
    "print('iris target명:', iris.target_names)"
   ]
  },
  {
   "cell_type": "code",
   "execution_count": 42,
   "metadata": {},
   "outputs": [
    {
     "data": {
      "text/html": [
       "<div>\n",
       "<style scoped>\n",
       "    .dataframe tbody tr th:only-of-type {\n",
       "        vertical-align: middle;\n",
       "    }\n",
       "\n",
       "    .dataframe tbody tr th {\n",
       "        vertical-align: top;\n",
       "    }\n",
       "\n",
       "    .dataframe thead th {\n",
       "        text-align: right;\n",
       "    }\n",
       "</style>\n",
       "<table border=\"1\" class=\"dataframe\">\n",
       "  <thead>\n",
       "    <tr style=\"text-align: right;\">\n",
       "      <th></th>\n",
       "      <th>sepal length (cm)</th>\n",
       "      <th>sepal width (cm)</th>\n",
       "      <th>petal length (cm)</th>\n",
       "      <th>petal width (cm)</th>\n",
       "      <th>label</th>\n",
       "    </tr>\n",
       "  </thead>\n",
       "  <tbody>\n",
       "    <tr>\n",
       "      <th>0</th>\n",
       "      <td>5.1</td>\n",
       "      <td>3.5</td>\n",
       "      <td>1.4</td>\n",
       "      <td>0.2</td>\n",
       "      <td>0</td>\n",
       "    </tr>\n",
       "    <tr>\n",
       "      <th>1</th>\n",
       "      <td>4.9</td>\n",
       "      <td>3.0</td>\n",
       "      <td>1.4</td>\n",
       "      <td>0.2</td>\n",
       "      <td>0</td>\n",
       "    </tr>\n",
       "    <tr>\n",
       "      <th>2</th>\n",
       "      <td>4.7</td>\n",
       "      <td>3.2</td>\n",
       "      <td>1.3</td>\n",
       "      <td>0.2</td>\n",
       "      <td>0</td>\n",
       "    </tr>\n",
       "  </tbody>\n",
       "</table>\n",
       "</div>"
      ],
      "text/plain": [
       "   sepal length (cm)  sepal width (cm)  petal length (cm)  petal width (cm)  \\\n",
       "0                5.1               3.5                1.4               0.2   \n",
       "1                4.9               3.0                1.4               0.2   \n",
       "2                4.7               3.2                1.3               0.2   \n",
       "\n",
       "   label  \n",
       "0      0  \n",
       "1      0  \n",
       "2      0  "
      ]
     },
     "execution_count": 42,
     "metadata": {},
     "output_type": "execute_result"
    }
   ],
   "source": [
    "#DataFrame으로 변환합니다. \n",
    "iris_df = pd.DataFrame(data=iris_data, columns=iris.feature_names)\n",
    "iris_df['label'] = iris.target\n",
    "iris_df.head(3)"
   ]
  },
  {
   "cell_type": "code",
   "execution_count": 45,
   "metadata": {},
   "outputs": [],
   "source": [
    "#X : feature\n",
    "#Y : label\n",
    "#test_size : test 데이터셋의 비율\n",
    "#shuffle : 데이터 섞는지\n",
    "#random_state : random seed 설정\n",
    "X_train, X_test, y_train, y_test = train_test_split(iris_data, iris_label, shuffle=True,\n",
    "                                                    test_size=0.2, random_state=11)"
   ]
  },
  {
   "cell_type": "markdown",
   "metadata": {},
   "source": [
    "### #2 모델학습"
   ]
  },
  {
   "cell_type": "code",
   "execution_count": 29,
   "metadata": {},
   "outputs": [
    {
     "data": {
      "text/plain": [
       "DecisionTreeClassifier(random_state=11)"
      ]
     },
     "execution_count": 29,
     "metadata": {},
     "output_type": "execute_result"
    }
   ],
   "source": [
    "# DecisionTreeClassifier 객체 생성 \n",
    "dt_clf = DecisionTreeClassifier(random_state=11)\n",
    "\n",
    "# 학습 수행 \n",
    "dt_clf.fit(X_train, y_train)"
   ]
  },
  {
   "cell_type": "markdown",
   "metadata": {},
   "source": [
    "### #3 test 데이터셋으로 예측수행"
   ]
  },
  {
   "cell_type": "code",
   "execution_count": 30,
   "metadata": {},
   "outputs": [
    {
     "data": {
      "text/plain": [
       "array([2, 2, 1, 1, 2, 0, 1, 0, 0, 1, 1, 1, 1, 2, 2, 0, 2, 1, 2, 2, 1, 0,\n",
       "       0, 1, 0, 0, 2, 1, 0, 1])"
      ]
     },
     "execution_count": 30,
     "metadata": {},
     "output_type": "execute_result"
    }
   ],
   "source": [
    "# 학습이 완료된 DecisionTreeClassifier 객체에서 테스트 데이터 세트로 예측 수행. \n",
    "pred = dt_clf.predict(X_test)\n",
    "pred"
   ]
  },
  {
   "cell_type": "markdown",
   "metadata": {},
   "source": [
    "### #4 예측모델 평가"
   ]
  },
  {
   "cell_type": "code",
   "execution_count": 31,
   "metadata": {},
   "outputs": [
    {
     "name": "stdout",
     "output_type": "stream",
     "text": [
      "예측 정확도: 0.9333\n"
     ]
    }
   ],
   "source": [
    "#accuracy\n",
    "from sklearn.metrics import accuracy_score\n",
    "print('예측 정확도: {0:.4f}'.format(accuracy_score(y_test,pred)))"
   ]
  },
  {
   "cell_type": "code",
   "execution_count": 32,
   "metadata": {},
   "outputs": [
    {
     "name": "stdout",
     "output_type": "stream",
     "text": [
      "예측 F1 score: 0.9364\n"
     ]
    }
   ],
   "source": [
    "from sklearn.metrics import f1_score\n",
    "print('예측 F1 score: {0:.4f}'.format(f1_score(y_test,pred,average='macro')))"
   ]
  },
  {
   "cell_type": "markdown",
   "metadata": {},
   "source": [
    "# sklearn 기반 프레임워크\n",
    "- 학습 : fit()\n",
    "- 예측 : predict()\n",
    "- Estimator(추정)\n",
    "    - Classifier(분류)\n",
    "        - DecisionTreeClassifier\n",
    "        - RandomForestClassifier\n",
    "        - GradientBoostingClassifer\n",
    "        - GaussianNB\n",
    "        - SVC\n",
    "    - Regressor(회귀)\n",
    "        - LinearRegression\n",
    "        - Ridge\n",
    "        - Lasso\n",
    "        - RandomForestRegressor\n",
    "        - GradientBoostingRegressor"
   ]
  },
  {
   "cell_type": "markdown",
   "metadata": {},
   "source": [
    "## sklearn 주요 모듈\n",
    "- sample data\n",
    "    - sklearn.datasets : sklearn 내장 dataset\n",
    "- 데이터 분리, 검증, 파라미터 튜닝\n",
    "    - sklearn.model_selection\n",
    "        - train/test 분리\n",
    "        - Grid search로 최적 파라미터 추출\n",
    "- feature 처리\n",
    "    - sklearn.preprocessing : 데이터 전처리\n",
    "    - sklearn.feature_selection : 영향력이 큰 feature를 우선적으로 선택\n",
    "    - sklearn.feature_extraction : feature 추출\n",
    "        - 텍스트데이터 : sklearn.feature_extraction.text\n",
    "            - count vectorizer, Tf-Idf vectorizer\n",
    "        - 이미지데이터 : sklearn.feature_extraction.image\n",
    "- feature 처리 & 차원 축소\n",
    "    - sklearn.decomposition : 차원축소 관련 알고리즘\n",
    "        - PCA\n",
    "        - NMF\n",
    "        - Truncated SVD\n",
    "- 평가\n",
    "    - sklearn.metrics : 성능 측정 지표\n",
    "        - accuracy\n",
    "        - precision\n",
    "        - recall\n",
    "        - f1-score\n",
    "        - ROC-AUC\n",
    "        - RMSE\n",
    "- ML 알고리즘\n",
    "    - sklearn.ensemble : 앙상블 알고리즘\n",
    "        - RandomForest\n",
    "        - AdaBoost(= adaptive boosting)\n",
    "        - GradientBoosting\n",
    "    - sklearn.linear_model : 선형모델 위주\n",
    "        - linear regression\n",
    "        - ridge\n",
    "        - lasso\n",
    "        - logistic regression\n",
    "        - SGD(Stochastic Gradient Descent)\n",
    "    - sklearn.naive_bayes : 나이브 베이즈 알고리즘\n",
    "        - 가우시안 나이브 베이즈\n",
    "        - 다항분포 나이즈 베이즈\n",
    "    - sklearn.neighbors : 최근접 이웃 알고리즘\n",
    "        - KNN\n",
    "    - sklearn.svm : 서포트 벡터 머신 알고리즘\n",
    "    - sklearn.tree : 의사 결정 트리 알고리즘\n",
    "    - sklearn.cluster : 비지도 클러스터링 알고리즘\n",
    "        - k-means\n",
    "        - 계층형\n",
    "        - DBSCAN\n",
    "- 유틸리티\n",
    "    - sklearn.pipeline : 피처처리 등의 변환과 ML알고리즘 학습, 예측 등을 묶어서 실행할 수 있는 유틸리티\n",
    "\n"
   ]
  }
 ],
 "metadata": {
  "interpreter": {
   "hash": "1e544831f4a5ae1e844323abe9ae358b98c09f6dfc89b7bf97271d0901323b39"
  },
  "kernelspec": {
   "display_name": "Python 3.9.7 64-bit ('adp': conda)",
   "language": "python",
   "name": "python3"
  },
  "language_info": {
   "codemirror_mode": {
    "name": "ipython",
    "version": 3
   },
   "file_extension": ".py",
   "mimetype": "text/x-python",
   "name": "python",
   "nbconvert_exporter": "python",
   "pygments_lexer": "ipython3",
   "version": "3.9.7"
  },
  "orig_nbformat": 4
 },
 "nbformat": 4,
 "nbformat_minor": 2
}
