{
 "cells": [
  {
   "cell_type": "markdown",
   "metadata": {},
   "source": [
    "# 타이타닉 생존자 ML 예측모델\n",
    "- 데이터 전처리\n",
    "    - Null 처리\n",
    "    - 불필요한 속성 제거\n",
    "    - encoding\n",
    "- 모델 학습/검증/예측/평가\n",
    "    - 결정트리, 랜덤포레스트, 로지스틱 회귀 비교\n",
    "    - k-fold cross validation test\n",
    "    - cross_vall_score()와 GridSearchCV()fh 하이퍼 파라미터 튜닝"
   ]
  },
  {
   "cell_type": "code",
   "execution_count": 3,
   "metadata": {},
   "outputs": [],
   "source": [
    "import numpy as np\n",
    "import pandas as pd\n",
    "import matplotlib.pyplot as plt\n",
    "import seaborn as sns\n",
    "%matplotlib inline"
   ]
  }
 ],
 "metadata": {
  "interpreter": {
   "hash": "74cc91aedddc6905de4a5d86e127e1a2d52a1aa96fc038f3058b7af59768bcea"
  },
  "kernelspec": {
   "display_name": "Python 3.9.7 64-bit ('adp': conda)",
   "language": "python",
   "name": "python3"
  },
  "language_info": {
   "codemirror_mode": {
    "name": "ipython",
    "version": 3
   },
   "file_extension": ".py",
   "mimetype": "text/x-python",
   "name": "python",
   "nbconvert_exporter": "python",
   "pygments_lexer": "ipython3",
   "version": "3.9.7"
  },
  "orig_nbformat": 4
 },
 "nbformat": 4,
 "nbformat_minor": 2
}
